{
  "nbformat": 4,
  "nbformat_minor": 0,
  "metadata": {
    "colab": {
      "provenance": [],
      "gpuType": "T4"
    },
    "kernelspec": {
      "name": "python3",
      "display_name": "Python 3"
    },
    "language_info": {
      "name": "python"
    },
    "accelerator": "GPU"
  },
  "cells": [
    {
      "cell_type": "markdown",
      "source": [
        "# <center>Uso de Datos de Google Sheets en un Programa CUDA en Google Colab</center>\n",
        "\n",
        "Este cuaderno explica paso a paso cómo obtener datos de una hoja de cálculo de Google Sheets en Python, guardarlos para su uso en un programa CUDA, y luego compilar y ejecutar el programa en Google\n",
        "\n",
        "## Requisitos Previos\n",
        "\n",
        "1. Una cuenta de Google y acceso a Google Sheets.\n",
        "2. Autenticación con Google para permitir que Colab acceda a Google Sheets.\n"
      ],
      "metadata": {
        "id": "rfEg_LSueM0L"
      }
    },
    {
      "cell_type": "markdown",
      "source": [
        "### 1.1 Instalar las bibliotecas necesarias"
      ],
      "metadata": {
        "id": "5awPm_Vze8xx"
      }
    },
    {
      "cell_type": "code",
      "source": [
        "!pip install --upgrade gspread oauth2client"
      ],
      "metadata": {
        "id": "JsNt5IE9eCYd",
        "colab": {
          "base_uri": "https://localhost:8080/"
        },
        "collapsed": true,
        "outputId": "b4b4523a-23b6-461e-b698-fae6ed9b977d"
      },
      "execution_count": null,
      "outputs": [
        {
          "output_type": "stream",
          "name": "stdout",
          "text": [
            "Requirement already satisfied: gspread in /usr/local/lib/python3.10/dist-packages (6.0.2)\n",
            "Collecting gspread\n",
            "  Downloading gspread-6.1.4-py3-none-any.whl.metadata (11 kB)\n",
            "Requirement already satisfied: oauth2client in /usr/local/lib/python3.10/dist-packages (4.1.3)\n",
            "Requirement already satisfied: google-auth>=1.12.0 in /usr/local/lib/python3.10/dist-packages (from gspread) (2.27.0)\n",
            "Requirement already satisfied: google-auth-oauthlib>=0.4.1 in /usr/local/lib/python3.10/dist-packages (from gspread) (1.2.1)\n",
            "Requirement already satisfied: httplib2>=0.9.1 in /usr/local/lib/python3.10/dist-packages (from oauth2client) (0.22.0)\n",
            "Requirement already satisfied: pyasn1>=0.1.7 in /usr/local/lib/python3.10/dist-packages (from oauth2client) (0.6.1)\n",
            "Requirement already satisfied: pyasn1-modules>=0.0.5 in /usr/local/lib/python3.10/dist-packages (from oauth2client) (0.4.1)\n",
            "Requirement already satisfied: rsa>=3.1.4 in /usr/local/lib/python3.10/dist-packages (from oauth2client) (4.9)\n",
            "Requirement already satisfied: six>=1.6.1 in /usr/local/lib/python3.10/dist-packages (from oauth2client) (1.16.0)\n",
            "Requirement already satisfied: cachetools<6.0,>=2.0.0 in /usr/local/lib/python3.10/dist-packages (from google-auth>=1.12.0->gspread) (5.5.0)\n",
            "Requirement already satisfied: requests-oauthlib>=0.7.0 in /usr/local/lib/python3.10/dist-packages (from google-auth-oauthlib>=0.4.1->gspread) (1.3.1)\n",
            "Requirement already satisfied: pyparsing!=3.0.0,!=3.0.1,!=3.0.2,!=3.0.3,<4,>=2.4.2 in /usr/local/lib/python3.10/dist-packages (from httplib2>=0.9.1->oauth2client) (3.2.0)\n",
            "Requirement already satisfied: oauthlib>=3.0.0 in /usr/local/lib/python3.10/dist-packages (from requests-oauthlib>=0.7.0->google-auth-oauthlib>=0.4.1->gspread) (3.2.2)\n",
            "Requirement already satisfied: requests>=2.0.0 in /usr/local/lib/python3.10/dist-packages (from requests-oauthlib>=0.7.0->google-auth-oauthlib>=0.4.1->gspread) (2.32.3)\n",
            "Requirement already satisfied: charset-normalizer<4,>=2 in /usr/local/lib/python3.10/dist-packages (from requests>=2.0.0->requests-oauthlib>=0.7.0->google-auth-oauthlib>=0.4.1->gspread) (3.4.0)\n",
            "Requirement already satisfied: idna<4,>=2.5 in /usr/local/lib/python3.10/dist-packages (from requests>=2.0.0->requests-oauthlib>=0.7.0->google-auth-oauthlib>=0.4.1->gspread) (3.10)\n",
            "Requirement already satisfied: urllib3<3,>=1.21.1 in /usr/local/lib/python3.10/dist-packages (from requests>=2.0.0->requests-oauthlib>=0.7.0->google-auth-oauthlib>=0.4.1->gspread) (2.2.3)\n",
            "Requirement already satisfied: certifi>=2017.4.17 in /usr/local/lib/python3.10/dist-packages (from requests>=2.0.0->requests-oauthlib>=0.7.0->google-auth-oauthlib>=0.4.1->gspread) (2024.8.30)\n",
            "Downloading gspread-6.1.4-py3-none-any.whl (57 kB)\n",
            "\u001b[2K   \u001b[90m━━━━━━━━━━━━━━━━━━━━━━━━━━━━━━━━━━━━━━━━\u001b[0m \u001b[32m57.6/57.6 kB\u001b[0m \u001b[31m5.4 MB/s\u001b[0m eta \u001b[36m0:00:00\u001b[0m\n",
            "\u001b[?25hInstalling collected packages: gspread\n",
            "  Attempting uninstall: gspread\n",
            "    Found existing installation: gspread 6.0.2\n",
            "    Uninstalling gspread-6.0.2:\n",
            "      Successfully uninstalled gspread-6.0.2\n",
            "Successfully installed gspread-6.1.4\n"
          ]
        }
      ]
    },
    {
      "cell_type": "code",
      "source": [],
      "metadata": {
        "id": "t0GlqatBe4bY"
      },
      "execution_count": null,
      "outputs": []
    },
    {
      "cell_type": "markdown",
      "source": [
        "### 1.2 Cargar el archivo de credenciales"
      ],
      "metadata": {
        "id": "uCJs5tRSfKtM"
      }
    },
    {
      "cell_type": "code",
      "source": [
        "from google.colab import files\n",
        "files.upload()"
      ],
      "metadata": {
        "id": "l2qEsd_sfT37"
      },
      "execution_count": null,
      "outputs": []
    },
    {
      "cell_type": "markdown",
      "source": [
        "###1.3 Configurar el acceso a Google Sheets\n",
        "\n",
        "Configuramos el acceso utilizando el archivo de credenciales de google cloud y gspread para acceder a los datos de la hoja de cálculo. (es necesario habilitar la API de google drive y de google sheet)"
      ],
      "metadata": {
        "id": "643eqhDVg3Ps"
      }
    },
    {
      "cell_type": "code",
      "source": [
        "import gspread\n",
        "from oauth2client.service_account import ServiceAccountCredentials\n",
        "import pandas as pd\n",
        "\n",
        "# Configuración de los permisos\n",
        "scope = ['https://spreadsheets.google.com/feeds', 'https://www.googleapis.com/auth/drive']\n",
        "credentials = ServiceAccountCredentials.from_json_keyfile_name('trim-epigram-440903-u1-f5ab24dc363e.json', scope)\n",
        "client = gspread.authorize(credentials)\n",
        "\n",
        "# Abrir la hoja de cálculo y cargar los datos\n",
        "spreadsheet = client.open(\"Lab10\")  # Cambia al nombre de tu hoja\n",
        "worksheet = spreadsheet.sheet1\n",
        "data = worksheet.get_all_records()  # Obtener todos los datos de la hoja\n",
        "df = pd.DataFrame(data)\n",
        "\n",
        "# Mostrar los datos para verificar\n",
        "df.head()"
      ],
      "metadata": {
        "colab": {
          "base_uri": "https://localhost:8080/",
          "height": 206
        },
        "collapsed": true,
        "id": "_oEPWtx3g7Yz",
        "outputId": "25375f1a-4365-4b49-86cb-93ddf8ba2c4b"
      },
      "execution_count": 12,
      "outputs": [
        {
          "output_type": "execute_result",
          "data": {
            "text/plain": [
              "        Date      Time  Distance\n",
              "0  5/11/2024   9:38:49       100\n",
              "1  5/11/2024  10:11:03       100\n",
              "2  5/11/2024  10:52:18       100\n",
              "3  5/11/2024  10:53:28       100\n",
              "4  6/11/2024  18:24:27       100"
            ],
            "text/html": [
              "\n",
              "  <div id=\"df-197e73be-7da2-45f7-9eaa-e20b0d9c07f7\" class=\"colab-df-container\">\n",
              "    <div>\n",
              "<style scoped>\n",
              "    .dataframe tbody tr th:only-of-type {\n",
              "        vertical-align: middle;\n",
              "    }\n",
              "\n",
              "    .dataframe tbody tr th {\n",
              "        vertical-align: top;\n",
              "    }\n",
              "\n",
              "    .dataframe thead th {\n",
              "        text-align: right;\n",
              "    }\n",
              "</style>\n",
              "<table border=\"1\" class=\"dataframe\">\n",
              "  <thead>\n",
              "    <tr style=\"text-align: right;\">\n",
              "      <th></th>\n",
              "      <th>Date</th>\n",
              "      <th>Time</th>\n",
              "      <th>Distance</th>\n",
              "    </tr>\n",
              "  </thead>\n",
              "  <tbody>\n",
              "    <tr>\n",
              "      <th>0</th>\n",
              "      <td>5/11/2024</td>\n",
              "      <td>9:38:49</td>\n",
              "      <td>100</td>\n",
              "    </tr>\n",
              "    <tr>\n",
              "      <th>1</th>\n",
              "      <td>5/11/2024</td>\n",
              "      <td>10:11:03</td>\n",
              "      <td>100</td>\n",
              "    </tr>\n",
              "    <tr>\n",
              "      <th>2</th>\n",
              "      <td>5/11/2024</td>\n",
              "      <td>10:52:18</td>\n",
              "      <td>100</td>\n",
              "    </tr>\n",
              "    <tr>\n",
              "      <th>3</th>\n",
              "      <td>5/11/2024</td>\n",
              "      <td>10:53:28</td>\n",
              "      <td>100</td>\n",
              "    </tr>\n",
              "    <tr>\n",
              "      <th>4</th>\n",
              "      <td>6/11/2024</td>\n",
              "      <td>18:24:27</td>\n",
              "      <td>100</td>\n",
              "    </tr>\n",
              "  </tbody>\n",
              "</table>\n",
              "</div>\n",
              "    <div class=\"colab-df-buttons\">\n",
              "\n",
              "  <div class=\"colab-df-container\">\n",
              "    <button class=\"colab-df-convert\" onclick=\"convertToInteractive('df-197e73be-7da2-45f7-9eaa-e20b0d9c07f7')\"\n",
              "            title=\"Convert this dataframe to an interactive table.\"\n",
              "            style=\"display:none;\">\n",
              "\n",
              "  <svg xmlns=\"http://www.w3.org/2000/svg\" height=\"24px\" viewBox=\"0 -960 960 960\">\n",
              "    <path d=\"M120-120v-720h720v720H120Zm60-500h600v-160H180v160Zm220 220h160v-160H400v160Zm0 220h160v-160H400v160ZM180-400h160v-160H180v160Zm440 0h160v-160H620v160ZM180-180h160v-160H180v160Zm440 0h160v-160H620v160Z\"/>\n",
              "  </svg>\n",
              "    </button>\n",
              "\n",
              "  <style>\n",
              "    .colab-df-container {\n",
              "      display:flex;\n",
              "      gap: 12px;\n",
              "    }\n",
              "\n",
              "    .colab-df-convert {\n",
              "      background-color: #E8F0FE;\n",
              "      border: none;\n",
              "      border-radius: 50%;\n",
              "      cursor: pointer;\n",
              "      display: none;\n",
              "      fill: #1967D2;\n",
              "      height: 32px;\n",
              "      padding: 0 0 0 0;\n",
              "      width: 32px;\n",
              "    }\n",
              "\n",
              "    .colab-df-convert:hover {\n",
              "      background-color: #E2EBFA;\n",
              "      box-shadow: 0px 1px 2px rgba(60, 64, 67, 0.3), 0px 1px 3px 1px rgba(60, 64, 67, 0.15);\n",
              "      fill: #174EA6;\n",
              "    }\n",
              "\n",
              "    .colab-df-buttons div {\n",
              "      margin-bottom: 4px;\n",
              "    }\n",
              "\n",
              "    [theme=dark] .colab-df-convert {\n",
              "      background-color: #3B4455;\n",
              "      fill: #D2E3FC;\n",
              "    }\n",
              "\n",
              "    [theme=dark] .colab-df-convert:hover {\n",
              "      background-color: #434B5C;\n",
              "      box-shadow: 0px 1px 3px 1px rgba(0, 0, 0, 0.15);\n",
              "      filter: drop-shadow(0px 1px 2px rgba(0, 0, 0, 0.3));\n",
              "      fill: #FFFFFF;\n",
              "    }\n",
              "  </style>\n",
              "\n",
              "    <script>\n",
              "      const buttonEl =\n",
              "        document.querySelector('#df-197e73be-7da2-45f7-9eaa-e20b0d9c07f7 button.colab-df-convert');\n",
              "      buttonEl.style.display =\n",
              "        google.colab.kernel.accessAllowed ? 'block' : 'none';\n",
              "\n",
              "      async function convertToInteractive(key) {\n",
              "        const element = document.querySelector('#df-197e73be-7da2-45f7-9eaa-e20b0d9c07f7');\n",
              "        const dataTable =\n",
              "          await google.colab.kernel.invokeFunction('convertToInteractive',\n",
              "                                                    [key], {});\n",
              "        if (!dataTable) return;\n",
              "\n",
              "        const docLinkHtml = 'Like what you see? Visit the ' +\n",
              "          '<a target=\"_blank\" href=https://colab.research.google.com/notebooks/data_table.ipynb>data table notebook</a>'\n",
              "          + ' to learn more about interactive tables.';\n",
              "        element.innerHTML = '';\n",
              "        dataTable['output_type'] = 'display_data';\n",
              "        await google.colab.output.renderOutput(dataTable, element);\n",
              "        const docLink = document.createElement('div');\n",
              "        docLink.innerHTML = docLinkHtml;\n",
              "        element.appendChild(docLink);\n",
              "      }\n",
              "    </script>\n",
              "  </div>\n",
              "\n",
              "\n",
              "<div id=\"df-f9a7ef15-2c1b-41d6-adfd-ad49e7d6a0ee\">\n",
              "  <button class=\"colab-df-quickchart\" onclick=\"quickchart('df-f9a7ef15-2c1b-41d6-adfd-ad49e7d6a0ee')\"\n",
              "            title=\"Suggest charts\"\n",
              "            style=\"display:none;\">\n",
              "\n",
              "<svg xmlns=\"http://www.w3.org/2000/svg\" height=\"24px\"viewBox=\"0 0 24 24\"\n",
              "     width=\"24px\">\n",
              "    <g>\n",
              "        <path d=\"M19 3H5c-1.1 0-2 .9-2 2v14c0 1.1.9 2 2 2h14c1.1 0 2-.9 2-2V5c0-1.1-.9-2-2-2zM9 17H7v-7h2v7zm4 0h-2V7h2v10zm4 0h-2v-4h2v4z\"/>\n",
              "    </g>\n",
              "</svg>\n",
              "  </button>\n",
              "\n",
              "<style>\n",
              "  .colab-df-quickchart {\n",
              "      --bg-color: #E8F0FE;\n",
              "      --fill-color: #1967D2;\n",
              "      --hover-bg-color: #E2EBFA;\n",
              "      --hover-fill-color: #174EA6;\n",
              "      --disabled-fill-color: #AAA;\n",
              "      --disabled-bg-color: #DDD;\n",
              "  }\n",
              "\n",
              "  [theme=dark] .colab-df-quickchart {\n",
              "      --bg-color: #3B4455;\n",
              "      --fill-color: #D2E3FC;\n",
              "      --hover-bg-color: #434B5C;\n",
              "      --hover-fill-color: #FFFFFF;\n",
              "      --disabled-bg-color: #3B4455;\n",
              "      --disabled-fill-color: #666;\n",
              "  }\n",
              "\n",
              "  .colab-df-quickchart {\n",
              "    background-color: var(--bg-color);\n",
              "    border: none;\n",
              "    border-radius: 50%;\n",
              "    cursor: pointer;\n",
              "    display: none;\n",
              "    fill: var(--fill-color);\n",
              "    height: 32px;\n",
              "    padding: 0;\n",
              "    width: 32px;\n",
              "  }\n",
              "\n",
              "  .colab-df-quickchart:hover {\n",
              "    background-color: var(--hover-bg-color);\n",
              "    box-shadow: 0 1px 2px rgba(60, 64, 67, 0.3), 0 1px 3px 1px rgba(60, 64, 67, 0.15);\n",
              "    fill: var(--button-hover-fill-color);\n",
              "  }\n",
              "\n",
              "  .colab-df-quickchart-complete:disabled,\n",
              "  .colab-df-quickchart-complete:disabled:hover {\n",
              "    background-color: var(--disabled-bg-color);\n",
              "    fill: var(--disabled-fill-color);\n",
              "    box-shadow: none;\n",
              "  }\n",
              "\n",
              "  .colab-df-spinner {\n",
              "    border: 2px solid var(--fill-color);\n",
              "    border-color: transparent;\n",
              "    border-bottom-color: var(--fill-color);\n",
              "    animation:\n",
              "      spin 1s steps(1) infinite;\n",
              "  }\n",
              "\n",
              "  @keyframes spin {\n",
              "    0% {\n",
              "      border-color: transparent;\n",
              "      border-bottom-color: var(--fill-color);\n",
              "      border-left-color: var(--fill-color);\n",
              "    }\n",
              "    20% {\n",
              "      border-color: transparent;\n",
              "      border-left-color: var(--fill-color);\n",
              "      border-top-color: var(--fill-color);\n",
              "    }\n",
              "    30% {\n",
              "      border-color: transparent;\n",
              "      border-left-color: var(--fill-color);\n",
              "      border-top-color: var(--fill-color);\n",
              "      border-right-color: var(--fill-color);\n",
              "    }\n",
              "    40% {\n",
              "      border-color: transparent;\n",
              "      border-right-color: var(--fill-color);\n",
              "      border-top-color: var(--fill-color);\n",
              "    }\n",
              "    60% {\n",
              "      border-color: transparent;\n",
              "      border-right-color: var(--fill-color);\n",
              "    }\n",
              "    80% {\n",
              "      border-color: transparent;\n",
              "      border-right-color: var(--fill-color);\n",
              "      border-bottom-color: var(--fill-color);\n",
              "    }\n",
              "    90% {\n",
              "      border-color: transparent;\n",
              "      border-bottom-color: var(--fill-color);\n",
              "    }\n",
              "  }\n",
              "</style>\n",
              "\n",
              "  <script>\n",
              "    async function quickchart(key) {\n",
              "      const quickchartButtonEl =\n",
              "        document.querySelector('#' + key + ' button');\n",
              "      quickchartButtonEl.disabled = true;  // To prevent multiple clicks.\n",
              "      quickchartButtonEl.classList.add('colab-df-spinner');\n",
              "      try {\n",
              "        const charts = await google.colab.kernel.invokeFunction(\n",
              "            'suggestCharts', [key], {});\n",
              "      } catch (error) {\n",
              "        console.error('Error during call to suggestCharts:', error);\n",
              "      }\n",
              "      quickchartButtonEl.classList.remove('colab-df-spinner');\n",
              "      quickchartButtonEl.classList.add('colab-df-quickchart-complete');\n",
              "    }\n",
              "    (() => {\n",
              "      let quickchartButtonEl =\n",
              "        document.querySelector('#df-f9a7ef15-2c1b-41d6-adfd-ad49e7d6a0ee button');\n",
              "      quickchartButtonEl.style.display =\n",
              "        google.colab.kernel.accessAllowed ? 'block' : 'none';\n",
              "    })();\n",
              "  </script>\n",
              "</div>\n",
              "\n",
              "    </div>\n",
              "  </div>\n"
            ],
            "application/vnd.google.colaboratory.intrinsic+json": {
              "type": "dataframe",
              "variable_name": "df",
              "summary": "{\n  \"name\": \"df\",\n  \"rows\": 837,\n  \"fields\": [\n    {\n      \"column\": \"Date\",\n      \"properties\": {\n        \"dtype\": \"object\",\n        \"num_unique_values\": 2,\n        \"samples\": [\n          \"6/11/2024\",\n          \"5/11/2024\"\n        ],\n        \"semantic_type\": \"\",\n        \"description\": \"\"\n      }\n    },\n    {\n      \"column\": \"Time\",\n      \"properties\": {\n        \"dtype\": \"object\",\n        \"num_unique_values\": 837,\n        \"samples\": [\n          \"18:58:31\",\n          \"19:48:31\"\n        ],\n        \"semantic_type\": \"\",\n        \"description\": \"\"\n      }\n    },\n    {\n      \"column\": \"Distance\",\n      \"properties\": {\n        \"dtype\": \"number\",\n        \"std\": 502,\n        \"min\": 3,\n        \"max\": 1218,\n        \"num_unique_values\": 111,\n        \"samples\": [\n          46,\n          87\n        ],\n        \"semantic_type\": \"\",\n        \"description\": \"\"\n      }\n    }\n  ]\n}"
            }
          },
          "metadata": {},
          "execution_count": 12
        }
      ]
    },
    {
      "cell_type": "code",
      "source": [],
      "metadata": {
        "id": "lcepov0qhJlq"
      },
      "execution_count": null,
      "outputs": []
    },
    {
      "cell_type": "markdown",
      "source": [
        "##Paso 2: Guardar los Datos para el Programa CUDA\n",
        "\n",
        "Vamos a guardar los datos, por ejemplo, la columna de distancia, en un archivo de texto que nuestro programa CUDA leerá."
      ],
      "metadata": {
        "id": "5dtpxT4vhTV5"
      }
    },
    {
      "cell_type": "code",
      "source": [
        "# Suponiendo que tenemos una columna \"distance\" en la hoja\n",
        "distances = df['Distance'].values.tolist()\n",
        "\n",
        "# Guardar los datos en un archivo de texto\n",
        "with open('distance_data.txt', 'w') as file:\n",
        "    for distance in distances:\n",
        "        file.write(f\"{distance}\\n\")\n",
        "\n",
        "print(\"Datos guardados en 'distance_data.txt'\")"
      ],
      "metadata": {
        "colab": {
          "base_uri": "https://localhost:8080/"
        },
        "collapsed": true,
        "id": "dIihSJNHhV1S",
        "outputId": "7a79a755-2d0d-4332-865c-899cd234b0b8"
      },
      "execution_count": 14,
      "outputs": [
        {
          "output_type": "stream",
          "name": "stdout",
          "text": [
            "Datos guardados en 'distance_data.txt'\n"
          ]
        }
      ]
    },
    {
      "cell_type": "markdown",
      "source": [
        "#Paso 3: Escribir el Programa CUDA para Procesar los Datos\n",
        "\n",
        "Usaremos un archivo .cu para crear un programa CUDA que lea los datos de distance_data.txt, realice una operación en cada distancia (por ejemplo, sumar un valor constante) y luego muestre los resultados."
      ],
      "metadata": {
        "id": "1xIpga6ghcez"
      }
    },
    {
      "cell_type": "code",
      "source": [
        "!nvcc distance.cu\n",
        "!./a.out"
      ],
      "metadata": {
        "colab": {
          "base_uri": "https://localhost:8080/"
        },
        "id": "DHDJ2N_ThgRA",
        "outputId": "6228a232-a251-4a5c-e0f1-c134ea23fc5a"
      },
      "execution_count": 15,
      "outputs": [
        {
          "output_type": "stream",
          "name": "stdout",
          "text": [
            "Distances read from file:\n",
            "100.000000 100.000000 100.000000 100.000000 100.000000 129.000000 129.000000 129.000000 128.000000 129.000000 129.000000 129.000000 129.000000 129.000000 128.000000 129.000000 129.000000 129.000000 129.000000 129.000000 129.000000 129.000000 129.000000 129.000000 129.000000 131.000000 129.000000 128.000000 128.000000 129.000000 19.000000 128.000000 129.000000 130.000000 129.000000 129.000000 129.000000 129.000000 128.000000 127.000000 126.000000 122.000000 127.000000 127.000000 127.000000 127.000000 128.000000 127.000000 126.000000 127.000000 126.000000 126.000000 126.000000 127.000000 126.000000 127.000000 126.000000 126.000000 127.000000 126.000000 126.000000 126.000000 126.000000 127.000000 126.000000 127.000000 126.000000 126.000000 126.000000 126.000000 126.000000 127.000000 127.000000 126.000000 126.000000 126.000000 126.000000 127.000000 127.000000 126.000000 127.000000 127.000000 126.000000 126.000000 126.000000 127.000000 127.000000 128.000000 128.000000 127.000000 127.000000 127.000000 127.000000 126.000000 128.000000 127.000000 127.000000 125.000000 127.000000 126.000000 87.000000 126.000000 126.000000 125.000000 125.000000 83.000000 125.000000 126.000000 125.000000 126.000000 124.000000 125.000000 125.000000 125.000000 124.000000 126.000000 125.000000 125.000000 82.000000 125.000000 107.000000 97.000000 75.000000 126.000000 125.000000 125.000000 68.000000 125.000000 126.000000 125.000000 125.000000 125.000000 126.000000 125.000000 125.000000 125.000000 126.000000 125.000000 125.000000 125.000000 125.000000 125.000000 125.000000 125.000000 125.000000 125.000000 126.000000 126.000000 125.000000 148.000000 149.000000 149.000000 3.000000 44.000000 152.000000 83.000000 61.000000 151.000000 24.000000 7.000000 6.000000 1200.000000 14.000000 114.000000 108.000000 133.000000 1200.000000 74.000000 120.000000 142.000000 1200.000000 54.000000 5.000000 6.000000 9.000000 6.000000 112.000000 82.000000 114.000000 51.000000 4.000000 11.000000 1201.000000 35.000000 28.000000 99.000000 100.000000 100.000000 99.000000 100.000000 100.000000 100.000000 100.000000 99.000000 99.000000 100.000000 100.000000 99.000000 99.000000 11.000000 100.000000 99.000000 100.000000 99.000000 100.000000 99.000000 99.000000 100.000000 100.000000 99.000000 100.000000 99.000000 100.000000 99.000000 100.000000 99.000000 100.000000 99.000000 99.000000 100.000000 99.000000 100.000000 100.000000 100.000000 99.000000 100.000000 100.000000 99.000000 99.000000 99.000000 100.000000 99.000000 99.000000 100.000000 100.000000 99.000000 99.000000 99.000000 100.000000 100.000000 100.000000 99.000000 100.000000 100.000000 42.000000 22.000000 28.000000 116.000000 65.000000 116.000000 116.000000 116.000000 116.000000 117.000000 117.000000 116.000000 117.000000 117.000000 117.000000 116.000000 117.000000 117.000000 116.000000 116.000000 117.000000 117.000000 117.000000 117.000000 117.000000 117.000000 116.000000 117.000000 117.000000 117.000000 116.000000 117.000000 117.000000 117.000000 117.000000 116.000000 117.000000 117.000000 116.000000 117.000000 117.000000 116.000000 116.000000 117.000000 124.000000 117.000000 117.000000 117.000000 116.000000 117.000000 116.000000 117.000000 116.000000 117.000000 117.000000 117.000000 117.000000 117.000000 117.000000 117.000000 117.000000 117.000000 117.000000 116.000000 117.000000 117.000000 116.000000 117.000000 117.000000 117.000000 116.000000 117.000000 116.000000 116.000000 117.000000 117.000000 117.000000 117.000000 117.000000 116.000000 116.000000 117.000000 116.000000 117.000000 116.000000 117.000000 116.000000 116.000000 117.000000 117.000000 117.000000 117.000000 116.000000 116.000000 116.000000 117.000000 116.000000 117.000000 117.000000 116.000000 117.000000 116.000000 117.000000 116.000000 117.000000 117.000000 116.000000 116.000000 116.000000 117.000000 117.000000 116.000000 116.000000 117.000000 116.000000 117.000000 117.000000 116.000000 116.000000 116.000000 117.000000 116.000000 117.000000 117.000000 116.000000 117.000000 117.000000 117.000000 117.000000 117.000000 117.000000 116.000000 116.000000 117.000000 116.000000 116.000000 117.000000 117.000000 117.000000 117.000000 117.000000 117.000000 117.000000 117.000000 117.000000 116.000000 116.000000 116.000000 116.000000 117.000000 117.000000 117.000000 116.000000 116.000000 117.000000 116.000000 117.000000 116.000000 117.000000 117.000000 117.000000 117.000000 117.000000 117.000000 117.000000 116.000000 117.000000 117.000000 117.000000 116.000000 117.000000 117.000000 117.000000 117.000000 116.000000 116.000000 40.000000 41.000000 36.000000 36.000000 42.000000 47.000000 35.000000 33.000000 7.000000 51.000000 7.000000 42.000000 72.000000 116.000000 41.000000 124.000000 30.000000 30.000000 72.000000 123.000000 7.000000 27.000000 10.000000 16.000000 16.000000 32.000000 10.000000 21.000000 30.000000 12.000000 12.000000 9.000000 9.000000 9.000000 9.000000 9.000000 9.000000 10.000000 10.000000 10.000000 10.000000 87.000000 216.000000 76.000000 1203.000000 216.000000 216.000000 45.000000 33.000000 27.000000 13.000000 37.000000 14.000000 14.000000 36.000000 10.000000 36.000000 44.000000 121.000000 217.000000 62.000000 57.000000 1203.000000 65.000000 62.000000 52.000000 61.000000 65.000000 190.000000 1203.000000 1203.000000 1203.000000 1203.000000 1203.000000 1203.000000 1203.000000 1203.000000 1203.000000 1203.000000 1203.000000 1203.000000 216.000000 1203.000000 1203.000000 1203.000000 1203.000000 1203.000000 46.000000 1204.000000 1204.000000 1204.000000 1203.000000 1203.000000 1203.000000 1204.000000 1203.000000 1203.000000 1204.000000 1204.000000 116.000000 1203.000000 49.000000 218.000000 216.000000 1203.000000 1204.000000 1203.000000 72.000000 1204.000000 220.000000 1204.000000 1203.000000 1204.000000 1204.000000 1204.000000 60.000000 1203.000000 78.000000 1203.000000 72.000000 1204.000000 69.000000 1204.000000 1203.000000 1203.000000 1204.000000 217.000000 218.000000 216.000000 1203.000000 1204.000000 1203.000000 1203.000000 1203.000000 1203.000000 1204.000000 1203.000000 1203.000000 1203.000000 1204.000000 1203.000000 1204.000000 219.000000 220.000000 219.000000 1204.000000 218.000000 221.000000 219.000000 218.000000 1203.000000 1203.000000 1204.000000 1203.000000 1204.000000 1204.000000 1204.000000 1204.000000 1204.000000 1204.000000 64.000000 1203.000000 1204.000000 121.000000 1204.000000 1203.000000 1203.000000 1203.000000 65.000000 33.000000 38.000000 40.000000 39.000000 9.000000 8.000000 13.000000 25.000000 21.000000 22.000000 1203.000000 1203.000000 1204.000000 35.000000 10.000000 9.000000 1204.000000 1204.000000 1203.000000 1203.000000 97.000000 1203.000000 1203.000000 130.000000 1204.000000 1203.000000 50.000000 1204.000000 1204.000000 1203.000000 1203.000000 1204.000000 1204.000000 1204.000000 1204.000000 1204.000000 1204.000000 1203.000000 54.000000 1203.000000 1203.000000 220.000000 1203.000000 1203.000000 1203.000000 1203.000000 1204.000000 1204.000000 1203.000000 1204.000000 1203.000000 1203.000000 1204.000000 1203.000000 1203.000000 1203.000000 1204.000000 1204.000000 1203.000000 1203.000000 1203.000000 1203.000000 1204.000000 1203.000000 1204.000000 1203.000000 1203.000000 1204.000000 1204.000000 1204.000000 1204.000000 1203.000000 1203.000000 1203.000000 1203.000000 1203.000000 1203.000000 1203.000000 1203.000000 1203.000000 219.000000 1204.000000 1203.000000 1203.000000 1203.000000 1204.000000 1203.000000 1203.000000 216.000000 1203.000000 1204.000000 1203.000000 1204.000000 1204.000000 1203.000000 1203.000000 221.000000 1203.000000 1203.000000 1203.000000 85.000000 1203.000000 1203.000000 1203.000000 1204.000000 1203.000000 1203.000000 189.000000 1203.000000 1204.000000 1204.000000 1204.000000 75.000000 48.000000 119.000000 1203.000000 1203.000000 54.000000 1203.000000 1208.000000 1204.000000 1204.000000 1204.000000 1203.000000 1204.000000 1203.000000 1204.000000 1203.000000 1203.000000 1203.000000 1204.000000 1204.000000 1204.000000 1204.000000 1204.000000 1204.000000 1204.000000 1204.000000 1203.000000 1204.000000 1203.000000 1203.000000 1204.000000 1203.000000 1204.000000 1203.000000 1203.000000 1203.000000 1203.000000 1203.000000 1204.000000 1203.000000 1203.000000 1204.000000 1203.000000 1203.000000 1203.000000 1203.000000 1203.000000 1204.000000 117.000000 1204.000000 1203.000000 1204.000000 1204.000000 1204.000000 1203.000000 119.000000 1203.000000 1203.000000 92.000000 1203.000000 1204.000000 1203.000000 1204.000000 1204.000000 1203.000000 1204.000000 1203.000000 1203.000000 1203.000000 1204.000000 1218.000000 229.000000 1203.000000 1203.000000 1203.000000 1203.000000 1204.000000 1203.000000 1204.000000 225.000000 224.000000 120.000000 1204.000000 1203.000000 68.000000 21.000000 46.000000 1204.000000 226.000000 224.000000 53.000000 52.000000 46.000000 35.000000 46.000000 124.000000 35.000000 27.000000 36.000000 66.000000 18.000000 46.000000 47.000000 40.000000 46.000000 47.000000 42.000000 42.000000 4.000000 3.000000 4.000000 6.000000 6.000000 7.000000 8.000000 8.000000 9.000000 18.000000 19.000000 18.000000 70.000000 69.000000 69.000000 74.000000 73.000000 84.000000 119.000000 119.000000 119.000000 120.000000 119.000000 119.000000 119.000000 119.000000 119.000000 119.000000 \n",
            "Modified distances:\n",
            "105.000000 105.000000 105.000000 105.000000 105.000000 134.000000 134.000000 134.000000 133.000000 134.000000 134.000000 134.000000 134.000000 134.000000 133.000000 134.000000 134.000000 134.000000 134.000000 134.000000 134.000000 134.000000 134.000000 134.000000 134.000000 136.000000 134.000000 133.000000 133.000000 134.000000 24.000000 133.000000 134.000000 135.000000 134.000000 134.000000 134.000000 134.000000 133.000000 132.000000 131.000000 127.000000 132.000000 132.000000 132.000000 132.000000 133.000000 132.000000 131.000000 132.000000 131.000000 131.000000 131.000000 132.000000 131.000000 132.000000 131.000000 131.000000 132.000000 131.000000 131.000000 131.000000 131.000000 132.000000 131.000000 132.000000 131.000000 131.000000 131.000000 131.000000 131.000000 132.000000 132.000000 131.000000 131.000000 131.000000 131.000000 132.000000 132.000000 131.000000 132.000000 132.000000 131.000000 131.000000 131.000000 132.000000 132.000000 133.000000 133.000000 132.000000 132.000000 132.000000 132.000000 131.000000 133.000000 132.000000 132.000000 130.000000 132.000000 131.000000 92.000000 131.000000 131.000000 130.000000 130.000000 88.000000 130.000000 131.000000 130.000000 131.000000 129.000000 130.000000 130.000000 130.000000 129.000000 131.000000 130.000000 130.000000 87.000000 130.000000 112.000000 102.000000 80.000000 131.000000 130.000000 130.000000 73.000000 130.000000 131.000000 130.000000 130.000000 130.000000 131.000000 130.000000 130.000000 130.000000 131.000000 130.000000 130.000000 130.000000 130.000000 130.000000 130.000000 130.000000 130.000000 130.000000 131.000000 131.000000 130.000000 153.000000 154.000000 154.000000 8.000000 49.000000 157.000000 88.000000 66.000000 156.000000 29.000000 12.000000 11.000000 1205.000000 19.000000 119.000000 113.000000 138.000000 1205.000000 79.000000 125.000000 147.000000 1205.000000 59.000000 10.000000 11.000000 14.000000 11.000000 117.000000 87.000000 119.000000 56.000000 9.000000 16.000000 1206.000000 40.000000 33.000000 104.000000 105.000000 105.000000 104.000000 105.000000 105.000000 105.000000 105.000000 104.000000 104.000000 105.000000 105.000000 104.000000 104.000000 16.000000 105.000000 104.000000 105.000000 104.000000 105.000000 104.000000 104.000000 105.000000 105.000000 104.000000 105.000000 104.000000 105.000000 104.000000 105.000000 104.000000 105.000000 104.000000 104.000000 105.000000 104.000000 105.000000 105.000000 105.000000 104.000000 105.000000 105.000000 104.000000 104.000000 104.000000 105.000000 104.000000 104.000000 105.000000 105.000000 104.000000 104.000000 104.000000 105.000000 105.000000 105.000000 104.000000 105.000000 105.000000 47.000000 27.000000 33.000000 121.000000 70.000000 121.000000 121.000000 121.000000 121.000000 122.000000 122.000000 121.000000 122.000000 122.000000 122.000000 121.000000 122.000000 122.000000 121.000000 121.000000 122.000000 122.000000 122.000000 122.000000 122.000000 122.000000 121.000000 122.000000 122.000000 122.000000 121.000000 122.000000 122.000000 122.000000 122.000000 121.000000 122.000000 122.000000 121.000000 122.000000 122.000000 121.000000 121.000000 122.000000 129.000000 122.000000 122.000000 122.000000 121.000000 122.000000 121.000000 122.000000 121.000000 122.000000 122.000000 122.000000 122.000000 122.000000 122.000000 122.000000 122.000000 122.000000 122.000000 121.000000 122.000000 122.000000 121.000000 122.000000 122.000000 122.000000 121.000000 122.000000 121.000000 121.000000 122.000000 122.000000 122.000000 122.000000 122.000000 121.000000 121.000000 122.000000 121.000000 122.000000 121.000000 122.000000 121.000000 121.000000 122.000000 122.000000 122.000000 122.000000 121.000000 121.000000 121.000000 122.000000 121.000000 122.000000 122.000000 121.000000 122.000000 121.000000 122.000000 121.000000 122.000000 122.000000 121.000000 121.000000 121.000000 122.000000 122.000000 121.000000 121.000000 122.000000 121.000000 122.000000 122.000000 121.000000 121.000000 121.000000 122.000000 121.000000 122.000000 122.000000 121.000000 122.000000 122.000000 122.000000 122.000000 122.000000 122.000000 121.000000 121.000000 122.000000 121.000000 121.000000 122.000000 122.000000 122.000000 122.000000 122.000000 122.000000 122.000000 122.000000 122.000000 121.000000 121.000000 121.000000 121.000000 122.000000 122.000000 122.000000 121.000000 121.000000 122.000000 121.000000 122.000000 121.000000 122.000000 122.000000 122.000000 122.000000 122.000000 122.000000 122.000000 121.000000 122.000000 122.000000 122.000000 121.000000 122.000000 122.000000 122.000000 122.000000 121.000000 121.000000 45.000000 46.000000 41.000000 41.000000 47.000000 52.000000 40.000000 38.000000 12.000000 56.000000 12.000000 47.000000 77.000000 121.000000 46.000000 129.000000 35.000000 35.000000 77.000000 128.000000 12.000000 32.000000 15.000000 21.000000 21.000000 37.000000 15.000000 26.000000 35.000000 17.000000 17.000000 14.000000 14.000000 14.000000 14.000000 14.000000 14.000000 15.000000 15.000000 15.000000 15.000000 92.000000 221.000000 81.000000 1208.000000 221.000000 221.000000 50.000000 38.000000 32.000000 18.000000 42.000000 19.000000 19.000000 41.000000 15.000000 41.000000 49.000000 126.000000 222.000000 67.000000 62.000000 1208.000000 70.000000 67.000000 57.000000 66.000000 70.000000 195.000000 1208.000000 1208.000000 1208.000000 1208.000000 1208.000000 1208.000000 1208.000000 1208.000000 1208.000000 1208.000000 1208.000000 1208.000000 221.000000 1208.000000 1208.000000 1208.000000 1208.000000 1208.000000 51.000000 1209.000000 1209.000000 1209.000000 1208.000000 1208.000000 1208.000000 1209.000000 1208.000000 1208.000000 1209.000000 1209.000000 121.000000 1208.000000 54.000000 223.000000 221.000000 1208.000000 1209.000000 1208.000000 77.000000 1209.000000 225.000000 1209.000000 1208.000000 1209.000000 1209.000000 1209.000000 65.000000 1208.000000 83.000000 1208.000000 77.000000 1209.000000 74.000000 1209.000000 1208.000000 1208.000000 1209.000000 222.000000 223.000000 221.000000 1208.000000 1209.000000 1208.000000 1208.000000 1208.000000 1208.000000 1209.000000 1208.000000 1208.000000 1208.000000 1209.000000 1208.000000 1209.000000 224.000000 225.000000 224.000000 1209.000000 223.000000 226.000000 224.000000 223.000000 1208.000000 1208.000000 1209.000000 1208.000000 1209.000000 1209.000000 1209.000000 1209.000000 1209.000000 1209.000000 69.000000 1208.000000 1209.000000 126.000000 1209.000000 1208.000000 1208.000000 1208.000000 70.000000 38.000000 43.000000 45.000000 44.000000 14.000000 13.000000 18.000000 30.000000 26.000000 27.000000 1208.000000 1208.000000 1209.000000 40.000000 15.000000 14.000000 1209.000000 1209.000000 1208.000000 1208.000000 102.000000 1208.000000 1208.000000 135.000000 1209.000000 1208.000000 55.000000 1209.000000 1209.000000 1208.000000 1208.000000 1209.000000 1209.000000 1209.000000 1209.000000 1209.000000 1209.000000 1208.000000 59.000000 1208.000000 1208.000000 225.000000 1208.000000 1208.000000 1208.000000 1208.000000 1209.000000 1209.000000 1208.000000 1209.000000 1208.000000 1208.000000 1209.000000 1208.000000 1208.000000 1208.000000 1209.000000 1209.000000 1208.000000 1208.000000 1208.000000 1208.000000 1209.000000 1208.000000 1209.000000 1208.000000 1208.000000 1209.000000 1209.000000 1209.000000 1209.000000 1208.000000 1208.000000 1208.000000 1208.000000 1208.000000 1208.000000 1208.000000 1208.000000 1208.000000 224.000000 1209.000000 1208.000000 1208.000000 1208.000000 1209.000000 1208.000000 1208.000000 221.000000 1208.000000 1209.000000 1208.000000 1209.000000 1209.000000 1208.000000 1208.000000 226.000000 1208.000000 1208.000000 1208.000000 90.000000 1208.000000 1208.000000 1208.000000 1209.000000 1208.000000 1208.000000 194.000000 1208.000000 1209.000000 1209.000000 1209.000000 80.000000 53.000000 124.000000 1208.000000 1208.000000 59.000000 1208.000000 1213.000000 1209.000000 1209.000000 1209.000000 1208.000000 1209.000000 1208.000000 1209.000000 1208.000000 1208.000000 1208.000000 1209.000000 1209.000000 1209.000000 1209.000000 1209.000000 1209.000000 1209.000000 1209.000000 1208.000000 1209.000000 1208.000000 1208.000000 1209.000000 1208.000000 1209.000000 1208.000000 1208.000000 1208.000000 1208.000000 1208.000000 1209.000000 1208.000000 1208.000000 1209.000000 1208.000000 1208.000000 1208.000000 1208.000000 1208.000000 1209.000000 122.000000 1209.000000 1208.000000 1209.000000 1209.000000 1209.000000 1208.000000 124.000000 1208.000000 1208.000000 97.000000 1208.000000 1209.000000 1208.000000 1209.000000 1209.000000 1208.000000 1209.000000 1208.000000 1208.000000 1208.000000 1209.000000 1223.000000 234.000000 1208.000000 1208.000000 1208.000000 1208.000000 1209.000000 1208.000000 1209.000000 230.000000 229.000000 125.000000 1209.000000 1208.000000 73.000000 26.000000 51.000000 1209.000000 231.000000 229.000000 58.000000 57.000000 51.000000 40.000000 51.000000 129.000000 40.000000 32.000000 41.000000 71.000000 23.000000 51.000000 52.000000 45.000000 51.000000 52.000000 47.000000 47.000000 9.000000 8.000000 9.000000 11.000000 11.000000 12.000000 13.000000 13.000000 14.000000 23.000000 24.000000 23.000000 75.000000 74.000000 74.000000 79.000000 78.000000 89.000000 124.000000 124.000000 124.000000 125.000000 124.000000 124.000000 124.000000 124.000000 124.000000 124.000000 \n"
          ]
        }
      ]
    }
  ]
}